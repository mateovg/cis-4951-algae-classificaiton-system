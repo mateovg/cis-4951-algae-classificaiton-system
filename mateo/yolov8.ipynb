{
 "cells": [
  {
   "cell_type": "code",
   "execution_count": 1,
   "metadata": {},
   "outputs": [
    {
     "name": "stderr",
     "output_type": "stream",
     "text": [
      "Ultralytics YOLOv8.0.171 🚀 Python-3.11.4 torch-2.0.1 CPU (Apple M2 Pro)\n",
      "Setup complete ✅ (10 CPUs, 16.0 GB RAM, 102.1/460.4 GB disk)\n"
     ]
    }
   ],
   "source": [
    "! pip install -U ultralytics\n",
    "\n",
    "from IPython import display\n",
    "display.clear_output() # clears output cell\n",
    "\n",
    "import ultralytics\n",
    "ultralytics.checks()"
   ]
  },
  {
   "cell_type": "code",
   "execution_count": 2,
   "metadata": {},
   "outputs": [
    {
     "name": "stdout",
     "output_type": "stream",
     "text": [
      "/Users/mateovelazquez/repos/school/cis-4951-algae-classificaiton-system\n"
     ]
    }
   ],
   "source": [
    "import os\n",
    "HOME = os.getcwd()\n",
    "print(HOME)"
   ]
  },
  {
   "cell_type": "code",
   "execution_count": 3,
   "metadata": {},
   "outputs": [],
   "source": [
    "from ultralytics import YOLO\n",
    "\n",
    "# Load a model\n",
    "model = YOLO('yolov8n-cls.pt')  # load a pretrained model (recommended for training)"
   ]
  },
  {
   "cell_type": "code",
   "execution_count": 4,
   "metadata": {},
   "outputs": [],
   "source": [
    "# create a train and val dataset\n",
    "curr_path = HOME + '/old group/algae_dataset'\n",
    "train_path = HOME + '/dataset/train'\n",
    "val_path = HOME + '/dataset/val'\n",
    "\n",
    "import shutil\n",
    "\n",
    "def create_data_set():\n",
    "    for folder in os.listdir(curr_path):\n",
    "        # create folder in train and val\n",
    "        os.mkdir(train_path + '/' + folder)\n",
    "        os.mkdir(val_path + '/' + folder)\n",
    "\n",
    "        # copy 80% of images to train and 20% to val\n",
    "        num_images = len(os.listdir(curr_path + '/' + folder))\n",
    "        num_train = int(num_images * 0.8)\n",
    "        num_val = num_images - num_train\n",
    "\n",
    "        for i in range(num_train):\n",
    "            shutil.copy(curr_path + '/' + folder + '/' + os.listdir(curr_path + '/' + folder)[i], train_path + '/' + folder)\n",
    "        for i in range(num_val):\n",
    "            shutil.copy(curr_path + '/' + folder + '/' + os.listdir(curr_path + '/' + folder)[i + num_train], val_path + '/' + folder)\n"
   ]
  },
  {
   "cell_type": "markdown",
   "metadata": {},
   "source": [
    "I used the above function to qiuckly create the dataset structure that yolo needed. A better method would be to make the different sets with random images from each class rather than just sequentially split them. Also could have used a testing set to test the final model on."
   ]
  },
  {
   "cell_type": "code",
   "execution_count": 6,
   "metadata": {},
   "outputs": [
    {
     "name": "stderr",
     "output_type": "stream",
     "text": [
      "New https://pypi.org/project/ultralytics/8.0.183 available 😃 Update with 'pip install -U ultralytics'\n",
      "Ultralytics YOLOv8.0.171 🚀 Python-3.11.4 torch-2.0.1 CPU (Apple M2 Pro)\n",
      "\u001b[34m\u001b[1mengine/trainer: \u001b[0mtask=classify, mode=train, model=yolov8n-cls.pt, data=/Users/mateovelazquez/repos/school/cis-4951-algae-classificaiton-system/dataset, epochs=10, patience=50, batch=16, imgsz=224, save=True, save_period=-1, cache=False, device=None, workers=8, project=None, name=None, exist_ok=False, pretrained=True, optimizer=auto, verbose=True, seed=0, deterministic=True, single_cls=False, rect=False, cos_lr=False, close_mosaic=10, resume=False, amp=True, fraction=1.0, profile=False, freeze=None, overlap_mask=True, mask_ratio=4, dropout=0.0, val=True, split=val, save_json=False, save_hybrid=False, conf=None, iou=0.7, max_det=300, half=False, dnn=False, plots=True, source=None, show=False, save_txt=False, save_conf=False, save_crop=False, show_labels=True, show_conf=True, vid_stride=1, stream_buffer=False, line_width=None, visualize=False, augment=False, agnostic_nms=False, classes=None, retina_masks=False, boxes=True, format=torchscript, keras=False, optimize=False, int8=False, dynamic=False, simplify=False, opset=None, workspace=4, nms=False, lr0=0.01, lrf=0.01, momentum=0.937, weight_decay=0.0005, warmup_epochs=3.0, warmup_momentum=0.8, warmup_bias_lr=0.1, box=7.5, cls=0.5, dfl=1.5, pose=12.0, kobj=1.0, label_smoothing=0.0, nbs=64, hsv_h=0.015, hsv_s=0.7, hsv_v=0.4, degrees=0.0, translate=0.1, scale=0.5, shear=0.0, perspective=0.0, flipud=0.0, fliplr=0.5, mosaic=1.0, mixup=0.0, copy_paste=0.0, cfg=None, tracker=botsort.yaml, save_dir=runs/classify/train6\n",
      "\u001b[34m\u001b[1mtrain:\u001b[0m /Users/mateovelazquez/repos/school/cis-4951-algae-classificaiton-system/dataset/train... found 1756 images in 5 classes ✅ \n",
      "\u001b[34m\u001b[1mval:\u001b[0m /Users/mateovelazquez/repos/school/cis-4951-algae-classificaiton-system/dataset/val... found 441 images in 5 classes ✅ \n",
      "\u001b[34m\u001b[1mtest:\u001b[0m None...\n",
      "\n",
      "                   from  n    params  module                                       arguments                     \n",
      "  0                  -1  1       464  ultralytics.nn.modules.conv.Conv             [3, 16, 3, 2]                 \n",
      "  1                  -1  1      4672  ultralytics.nn.modules.conv.Conv             [16, 32, 3, 2]                \n",
      "  2                  -1  1      7360  ultralytics.nn.modules.block.C2f             [32, 32, 1, True]             \n",
      "  3                  -1  1     18560  ultralytics.nn.modules.conv.Conv             [32, 64, 3, 2]                \n",
      "  4                  -1  2     49664  ultralytics.nn.modules.block.C2f             [64, 64, 2, True]             \n",
      "  5                  -1  1     73984  ultralytics.nn.modules.conv.Conv             [64, 128, 3, 2]               \n",
      "  6                  -1  2    197632  ultralytics.nn.modules.block.C2f             [128, 128, 2, True]           \n",
      "  7                  -1  1    295424  ultralytics.nn.modules.conv.Conv             [128, 256, 3, 2]              \n",
      "  8                  -1  1    460288  ultralytics.nn.modules.block.C2f             [256, 256, 1, True]           \n",
      "  9                  -1  1    336645  ultralytics.nn.modules.head.Classify         [256, 5]                      \n",
      "YOLOv8n-cls summary: 99 layers, 1444693 parameters, 1444693 gradients\n",
      "Transferred 158/158 items from pretrained weights\n",
      "\u001b[34m\u001b[1mTensorBoard: \u001b[0mStart with 'tensorboard --logdir runs/classify/train6', view at http://localhost:6006/\n",
      "\u001b[34m\u001b[1mtrain: \u001b[0mScanning /Users/mateovelazquez/repos/school/cis-4951-algae-classificaiton-system/dataset/train... 1756 images, 0 corrupt: 100%|██████████| 1756/1756 [00:00<?, ?it/s]\n",
      "\u001b[34m\u001b[1mval: \u001b[0mScanning /Users/mateovelazquez/repos/school/cis-4951-algae-classificaiton-system/dataset/val... 441 images, 0 corrupt: 100%|██████████| 441/441 [00:00<?, ?it/s]\n",
      "\u001b[34m\u001b[1moptimizer:\u001b[0m AdamW(lr=0.000714, momentum=0.9) with parameter groups 26 weight(decay=0.0), 27 weight(decay=0.0005), 27 bias(decay=0.0)\n",
      "Image sizes 224 train, 224 val\n",
      "Using 0 dataloader workers\n",
      "Logging results to \u001b[1mruns/classify/train6\u001b[0m\n",
      "Starting training for 10 epochs...\n",
      "Closing dataloader mosaic\n",
      "\n",
      "      Epoch    GPU_mem       loss  Instances       Size\n",
      "       1/10         0G     0.2582         12        224: 100%|██████████| 110/110 [00:47<00:00,  2.33it/s]\n",
      "               classes   top1_acc   top5_acc: 100%|██████████| 14/14 [00:05<00:00,  2.38it/s]\n",
      "                   all      0.825          1\n",
      "\n",
      "      Epoch    GPU_mem       loss  Instances       Size\n",
      "       2/10         0G    0.09169         12        224: 100%|██████████| 110/110 [00:46<00:00,  2.35it/s]\n",
      "               classes   top1_acc   top5_acc: 100%|██████████| 14/14 [00:05<00:00,  2.40it/s]\n",
      "                   all      0.825          1\n",
      "\n",
      "      Epoch    GPU_mem       loss  Instances       Size\n",
      "       3/10         0G    0.04201         12        224: 100%|██████████| 110/110 [00:45<00:00,  2.41it/s]\n",
      "               classes   top1_acc   top5_acc: 100%|██████████| 14/14 [00:05<00:00,  2.38it/s]\n",
      "                   all      0.866          1\n",
      "\n",
      "      Epoch    GPU_mem       loss  Instances       Size\n",
      "       4/10         0G    0.03256         12        224: 100%|██████████| 110/110 [00:45<00:00,  2.40it/s]\n",
      "               classes   top1_acc   top5_acc: 100%|██████████| 14/14 [00:05<00:00,  2.40it/s]\n",
      "                   all      0.889          1\n",
      "\n",
      "      Epoch    GPU_mem       loss  Instances       Size\n",
      "       5/10         0G    0.01657         12        224: 100%|██████████| 110/110 [00:45<00:00,  2.39it/s]\n",
      "               classes   top1_acc   top5_acc: 100%|██████████| 14/14 [00:05<00:00,  2.37it/s]\n",
      "                   all       0.88          1\n",
      "\n",
      "      Epoch    GPU_mem       loss  Instances       Size\n",
      "       6/10         0G    0.01622         12        224: 100%|██████████| 110/110 [00:46<00:00,  2.37it/s]\n",
      "               classes   top1_acc   top5_acc: 100%|██████████| 14/14 [00:05<00:00,  2.39it/s]\n",
      "                   all      0.868          1\n",
      "\n",
      "      Epoch    GPU_mem       loss  Instances       Size\n",
      "       7/10         0G   0.008735         12        224: 100%|██████████| 110/110 [00:45<00:00,  2.40it/s]\n",
      "               classes   top1_acc   top5_acc: 100%|██████████| 14/14 [00:05<00:00,  2.39it/s]\n",
      "                   all       0.88          1\n",
      "\n",
      "      Epoch    GPU_mem       loss  Instances       Size\n",
      "       8/10         0G   0.005221         12        224: 100%|██████████| 110/110 [00:46<00:00,  2.37it/s]\n",
      "               classes   top1_acc   top5_acc: 100%|██████████| 14/14 [00:05<00:00,  2.38it/s]\n",
      "                   all      0.875          1\n",
      "\n",
      "      Epoch    GPU_mem       loss  Instances       Size\n",
      "       9/10         0G   0.002397         12        224: 100%|██████████| 110/110 [00:46<00:00,  2.38it/s]\n",
      "               classes   top1_acc   top5_acc: 100%|██████████| 14/14 [00:06<00:00,  2.30it/s]\n",
      "                   all      0.889          1\n",
      "\n",
      "      Epoch    GPU_mem       loss  Instances       Size\n",
      "      10/10         0G   0.001816         12        224: 100%|██████████| 110/110 [00:47<00:00,  2.32it/s]\n",
      "               classes   top1_acc   top5_acc: 100%|██████████| 14/14 [00:05<00:00,  2.35it/s]\n",
      "                   all      0.889          1\n",
      "\n",
      "10 epochs completed in 0.146 hours.\n",
      "Optimizer stripped from runs/classify/train6/weights/last.pt, 3.1MB\n",
      "Optimizer stripped from runs/classify/train6/weights/best.pt, 3.1MB\n",
      "Results saved to \u001b[1mruns/classify/train6\u001b[0m\n",
      "Ultralytics YOLOv8.0.171 🚀 Python-3.11.4 torch-2.0.1 CPU (Apple M2 Pro)\n",
      "YOLOv8n-cls summary (fused): 73 layers, 1441285 parameters, 0 gradients\n",
      "\u001b[34m\u001b[1mtrain:\u001b[0m /Users/mateovelazquez/repos/school/cis-4951-algae-classificaiton-system/dataset/train... found 1756 images in 5 classes ✅ \n",
      "\u001b[34m\u001b[1mval:\u001b[0m /Users/mateovelazquez/repos/school/cis-4951-algae-classificaiton-system/dataset/val... found 441 images in 5 classes ✅ \n",
      "\u001b[34m\u001b[1mtest:\u001b[0m None...\n",
      "\u001b[34m\u001b[1mval: \u001b[0mScanning /Users/mateovelazquez/repos/school/cis-4951-algae-classificaiton-system/dataset/val... 441 images, 0 corrupt: 100%|██████████| 441/441 [00:00<?, ?it/s]\n",
      "               classes   top1_acc   top5_acc: 100%|██████████| 28/28 [00:06<00:00,  4.35it/s]\n",
      "                   all      0.889          1\n",
      "Speed: 0.0ms preprocess, 13.8ms inference, 0.0ms loss, 0.0ms postprocess per image\n",
      "Results saved to \u001b[1mruns/classify/val3\u001b[0m\n"
     ]
    }
   ],
   "source": [
    "# Use the model\n",
    "dataset = f'{HOME}/dataset'\n",
    "results = model.train(data=dataset, epochs=10)  # train the model\n",
    "results = model.val()  # evaluate model performance on the validation set"
   ]
  },
  {
   "cell_type": "code",
   "execution_count": 11,
   "metadata": {},
   "outputs": [
    {
     "name": "stderr",
     "output_type": "stream",
     "text": [
      "Ultralytics YOLOv8.0.171 🚀 Python-3.11.4 torch-2.0.1 CPU (Apple M2 Pro)\n",
      "\n",
      "\u001b[34m\u001b[1mPyTorch:\u001b[0m starting from 'runs/classify/train6/weights/best.pt' with input shape (1, 3, 224, 224) BCHW and output shape(s) (1, 5) (3.0 MB)\n",
      "\n",
      "\u001b[34m\u001b[1mTorchScript:\u001b[0m starting export with torch 2.0.1...\n",
      "\u001b[34m\u001b[1mTorchScript:\u001b[0m export success ✅ 0.3s, saved as 'runs/classify/train6/weights/best.torchscript' (5.6 MB)\n",
      "\n",
      "Export complete (0.4s)\n",
      "Results saved to \u001b[1m/Users/mateovelazquez/repos/school/cis-4951-algae-classificaiton-system/runs/classify/train6/weights\u001b[0m\n",
      "Predict:         yolo predict task=classify model=runs/classify/train6/weights/best.torchscript imgsz=224  \n",
      "Validate:        yolo val task=classify model=runs/classify/train6/weights/best.torchscript imgsz=224 data=/Users/mateovelazquez/repos/school/cis-4951-algae-classificaiton-system/dataset  \n",
      "Visualize:       https://netron.app\n"
     ]
    },
    {
     "data": {
      "text/plain": [
       "'runs/classify/train6/weights/best.torchscript'"
      ]
     },
     "execution_count": 11,
     "metadata": {},
     "output_type": "execute_result"
    }
   ],
   "source": [
    "model.export()  # export trained model"
   ]
  },
  {
   "cell_type": "markdown",
   "metadata": {},
   "source": []
  }
 ],
 "metadata": {
  "kernelspec": {
   "display_name": "base",
   "language": "python",
   "name": "python3"
  },
  "language_info": {
   "codemirror_mode": {
    "name": "ipython",
    "version": 3
   },
   "file_extension": ".py",
   "mimetype": "text/x-python",
   "name": "python",
   "nbconvert_exporter": "python",
   "pygments_lexer": "ipython3",
   "version": "3.11.4"
  },
  "orig_nbformat": 4
 },
 "nbformat": 4,
 "nbformat_minor": 2
}
